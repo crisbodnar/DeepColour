{
 "cells": [
  {
   "cell_type": "code",
   "execution_count": 16,
   "metadata": {
    "collapsed": false
   },
   "outputs": [
    {
     "name": "stdout",
     "output_type": "stream",
     "text": [
      "[61, 45, 48, 56, 76, 94, 111, 19, 0, 9, 30, 56, 87, 94, 24, 8, 30, 55, 77, 97, 98, 26, 22, 58, 69, 76, 80, 78, 35, 36, 70, 86, 83, 83, 84, 51, 57, 78, 88, 95, 90, 90, 72, 79, 90, 90, 95, 90, 81]\n"
     ]
    }
   ],
   "source": [
    "fin = open('train.txt', 'r')\n",
    "lines = fin.readlines()\n",
    "\n",
    "splitted_lines = [[int(number) for number in line.split()] for line in lines] "
   ]
  },
  {
   "cell_type": "code",
   "execution_count": 19,
   "metadata": {
    "collapsed": false
   },
   "outputs": [],
   "source": [
    "fin2 = open('target.txt', 'r')\n",
    "lines = fin2.readlines()\n",
    "\n",
    "target = [[int(number) for number in line.split()] for line in lines]\n",
    "\n",
    "fin.close()\n",
    "fin2.close()"
   ]
  },
  {
   "cell_type": "code",
   "execution_count": 20,
   "metadata": {
    "collapsed": false
   },
   "outputs": [
    {
     "ename": "SyntaxError",
     "evalue": "invalid syntax (<ipython-input-20-2ef57be7762d>, line 1)",
     "output_type": "error",
     "traceback": [
      "\u001b[0;36m  File \u001b[0;32m\"<ipython-input-20-2ef57be7762d>\"\u001b[0;36m, line \u001b[0;32m1\u001b[0m\n\u001b[0;31m    import MPLClassifier from sklearn.neural_network\u001b[0m\n\u001b[0m                            ^\u001b[0m\n\u001b[0;31mSyntaxError\u001b[0m\u001b[0;31m:\u001b[0m invalid syntax\n"
     ]
    }
   ],
   "source": [
    "from sklearn.neural_network import MPLClassifier "
   ]
  }
 ],
 "metadata": {
  "anaconda-cloud": {},
  "kernelspec": {
   "display_name": "Python [default]",
   "language": "python",
   "name": "python2"
  },
  "language_info": {
   "codemirror_mode": {
    "name": "ipython",
    "version": 2
   },
   "file_extension": ".py",
   "mimetype": "text/x-python",
   "name": "python",
   "nbconvert_exporter": "python",
   "pygments_lexer": "ipython2",
   "version": "2.7.12"
  }
 },
 "nbformat": 4,
 "nbformat_minor": 1
}
