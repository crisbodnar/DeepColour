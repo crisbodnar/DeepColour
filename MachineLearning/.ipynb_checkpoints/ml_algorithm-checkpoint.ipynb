{
 "cells": [
  {
   "cell_type": "code",
   "execution_count": 13,
   "metadata": {
    "collapsed": false
   },
   "outputs": [
    {
     "name": "stdout",
     "output_type": "stream",
     "text": [
      "(50000L, 3072L)\n"
     ]
    }
   ],
   "source": [
    "import cPickle\n",
    "import numpy\n",
    "\n",
    "path = './cifar-10-python/cifar-10-batches-py'\n",
    "\n",
    "def load_data(file_path):\n",
    "    fo = open(file_path, 'rb')\n",
    "    dict = cPickle.load(fo)\n",
    "    fo.close()\n",
    "    return dict['data']\n",
    "\n",
    "def load_data_from_directory(path):\n",
    "    from os import listdir\n",
    "    from os.path import isfile, join\n",
    "    \n",
    "    #read the filenames of all the data batches\n",
    "    all_files = [join(path, f) for f in listdir(path) if isfile(join(path, f)) and f.startswith('data_')]\n",
    "    \n",
    "    list_of_files = []\n",
    "    for file in all_files:\n",
    "        list_of_files.append(load_data(file))\n",
    "    \n",
    "    #concatenate all the matrices\n",
    "    return numpy.concatenate(list_of_files)\n",
    "        \n",
    "    \n",
    "data = load_data_from_directory(path)\n",
    "    \n"
   ]
  },
  {
   "cell_type": "code",
   "execution_count": null,
   "metadata": {
    "collapsed": false
   },
   "outputs": [],
   "source": [
    "#Preprocess \n",
    "from sklearn.neural_network import MLPClassifier\n",
    "    \n",
    "    "
   ]
  }
 ],
 "metadata": {
  "anaconda-cloud": {},
  "kernelspec": {
   "display_name": "Python [default]",
   "language": "python",
   "name": "python2"
  },
  "language_info": {
   "codemirror_mode": {
    "name": "ipython",
    "version": 2
   },
   "file_extension": ".py",
   "mimetype": "text/x-python",
   "name": "python",
   "nbconvert_exporter": "python",
   "pygments_lexer": "ipython2",
   "version": "2.7.12"
  }
 },
 "nbformat": 4,
 "nbformat_minor": 1
}
